{
 "cells": [
  {
   "cell_type": "markdown",
   "metadata": {},
   "source": [
    "## Environment setup\n",
    "\n",
    "1. Ensure that your python environment has gpt4all capability\n",
    "2. Define the \"model\" object to which this notebook's code will send converations & prompts\n",
    "\n",
    "_Do not worry about \"Failed to load libllamamodel-mainline-cuda...\" errors; this happens when the environment, like ours, does not have GPU support._"
   ]
  },
  {
   "cell_type": "code",
   "execution_count": 2,
   "metadata": {},
   "outputs": [],
   "source": [
    "# Ensure that your python environment has gpt4all capability\n",
    "try:\n",
    "    from gpt4all import GPT4All\n",
    "except ImportError:\n",
    "    %pip install gpt4all\n",
    "    from gpt4all import GPT4All"
   ]
  },
  {
   "cell_type": "code",
   "execution_count": 3,
   "metadata": {},
   "outputs": [
    {
     "name": "stderr",
     "output_type": "stream",
     "text": [
      "Found model file at '/home/jovyan/s2-data-project-2-gpt4all/qwen2-1_5b-instruct-q4_0.gguf'\n",
      "Failed to load libllamamodel-mainline-cuda.so: dlopen: libcudart.so.11.0: cannot open shared object file: No such file or directory\n",
      "Failed to load libllamamodel-mainline-cuda-avxonly.so: dlopen: libcudart.so.11.0: cannot open shared object file: No such file or directory\n"
     ]
    }
   ],
   "source": [
    "\n",
    "model = GPT4All(\n",
    "    model_name=\"qwen2-1_5b-instruct-q4_0.gguf\",\n",
    "    model_path=\"/home/jovyan/\",\n",
    "    allow_download=False,\n",
    "    verbose=True\n",
    ")\n"
   ]
  },
  {
   "cell_type": "code",
   "execution_count": 5,
   "metadata": {
    "scrolled": true
   },
   "outputs": [
    {
     "name": "stdout",
     "output_type": "stream",
     "text": [
      "time: 154 µs (started: 2025-05-21 20:04:14 +00:00)\n"
     ]
    }
   ],
   "source": [
    "#This extension will report the run time for each cell of code in this notebook.\n",
    "try:\n",
    "   import autotime\n",
    "   %load_ext autotime\n",
    "except ImportError:\n",
    "   %pip install ipython-autotime\n",
    "   import autotime\n",
    "   %load_ext autotime"
   ]
  },
  {
   "cell_type": "markdown",
   "metadata": {},
   "source": [
    "# Create a specialized LLM to tailor the respoonses to your desired personality and content"
   ]
  },
  {
   "cell_type": "code",
   "execution_count": null,
   "metadata": {
    "scrolled": true
   },
   "outputs": [],
   "source": [
    "# qwen2.5 template\n",
    "prompt_template = \"\"\"\n",
    "<|im_start|>user\n",
    "{0}\n",
    "<|im_end|>\n",
    "<|im_start|>assistant\n",
    "{1}\n",
    "<|im_end|>\n",
    "\"\"\"\n",
    "\n",
    "# TODO: Define the system message and chat history\n",
    "system_message = \"\"\"\n",
    "\"\"\"\n",
    "\n",
    "# TODO: Establish a chat history based on your models desired output\n",
    "chat_history = [\n",
    "    {\"role\": \"user\", \"content\": \"\"},\n",
    "    {\"role\": \"assistant\", \"content\": \"\"},\n",
    "    {\"role\": \"user\", \"content\": \"\"},\n",
    "    {\"role\": \"assistant\", \"content\": \"\"},\n",
    "    {\"role\": \"user\", \"content\": \"\"},\n",
    "    {\"role\": \"assistant\", \"content\": \"\"},\n",
    "]\n",
    "\n",
    "\n",
    "# WHERE YOU WORK\n",
    "# \n",
    "while True:\n",
    "    \n",
    "    new_user_message = input(\"GIVE PROMPT HERE\")\n",
    "    chat_history.append({\"role\": \"user\", \"content\": new_user_message})\n",
    "    \n",
    "    if new_user_message == \"quit\":\n",
    "        break\n",
    "\n",
    "    # END YOUR WORK HERE\n",
    "    \n",
    "    # Format the conversation history\n",
    "    formatted_prompt = \"\"\n",
    "    for message in chat_history:\n",
    "        formatted_prompt += f\"<|im_start|>{message['role']}\\n{message['content']}\\n<|im_end|>\\n\"\n",
    "    \n",
    "    # Combine with model session\n",
    "    with model.chat_session(system_prompt=system_message, prompt_template=prompt_template):\n",
    "        print(\"Response:\")\n",
    "        response = model.generate(\n",
    "            prompt=formatted_prompt,\n",
    "            max_tokens=response_size_limit_in_tokens,\n",
    "            temp=0.8\n",
    "        )\n",
    "    \n",
    "    # Output the assistant's reply\n",
    "    print(response)\n"
   ]
  },
  {
   "cell_type": "code",
   "execution_count": null,
   "metadata": {},
   "outputs": [],
   "source": []
  }
 ],
 "metadata": {
  "kernelspec": {
   "display_name": "Python 3 (ipykernel)",
   "language": "python",
   "name": "python3"
  },
  "language_info": {
   "codemirror_mode": {
    "name": "ipython",
    "version": 3
   },
   "file_extension": ".py",
   "mimetype": "text/x-python",
   "name": "python",
   "nbconvert_exporter": "python",
   "pygments_lexer": "ipython3",
   "version": "3.10.11"
  }
 },
 "nbformat": 4,
 "nbformat_minor": 4
}
